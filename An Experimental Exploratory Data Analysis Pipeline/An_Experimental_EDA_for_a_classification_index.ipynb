{
 "cells": [
  {
   "cell_type": "markdown",
   "metadata": {
    "colab_type": "text",
    "id": "HlcrvwrX70Uv"
   },
   "source": [
    "# **An Experimental Exploratory Data Analysis for a classification task**\n",
    "\n",
    "### ***From Visualization to Statistical Analysis***\n",
    "\n",
    "### ***From Feature Engineering to Feature Selection***\n",
    "\n",
    "### ***From the Best Model Selection to Interpretability***\n",
    "\n"
   ]
  },
  {
   "cell_type": "markdown",
   "metadata": {
    "colab_type": "text",
    "id": "vngHrhnzA7qr"
   },
   "source": [
    "To start the exploration set up the environment with libraries, upload the data set (it's stored in a github repository) and split it into target variable and features variables. No more set up is required using Google Colab. Look at the guidelines: https://colab.research.google.com/notebooks/welcome.ipynb"
   ]
  },
  {
   "cell_type": "markdown",
   "metadata": {
    "colab_type": "text",
    "id": "E2o9mujoz5by"
   },
   "source": [
    "#### **Contents**"
   ]
  },
  {
   "cell_type": "markdown",
   "metadata": {
    "colab_type": "text",
    "id": "0zD_apq7nFp1"
   },
   "source": [
    "Explorative Data Analysis (EDA) is usually a process between data cleaning and data modeling with the goal to understand patterns, detect mistakes, check assumptions and check relationships between variables of a data set with the help of graphical charts and summary statistics.\n",
    "The goal of this workshop is to extends the classical EDA journey, also provided in automated way by some tools.\n",
    "The exploration approach is grouped by the classification variables: it goes on from univariate analysis to bivariate analysis, from some feature engineering techniques (one-hot encoding), used to facilitate the machine learning job, to statistics evaluations in order to select the best features able to explain the response variable.\n",
    "During this process are handled some issues on explanatory variables, such as missing observations and outliers.\n",
    "A deeply understanding of the data set is completed by an exploration, of several baseline models, splitted into two steps: without handling the unbalanced data set and handling the unbalanced data set.  \n",
    "Will be used a data set coming from a classification task competition.\n"
   ]
  },
  {
   "cell_type": "markdown",
   "metadata": {
    "colab_type": "text",
    "id": "Qnis2VAj0GKu"
   },
   "source": [
    "# [1. Prepare Workspace](#scrollTo=Hs9lEhRM0Mne)"
   ]
  },
  {
   "cell_type": "markdown",
   "metadata": {
    "colab_type": "text",
    "id": "DSf7GbVd-bjW"
   },
   "source": [
    "- [1.1. Upload libraries](#scrollTo=zJlI9RQG-A8w)"
   ]
  },
  {
   "cell_type": "markdown",
   "metadata": {
    "colab_type": "text",
    "id": "itFqsbtq-cmq"
   },
   "source": [
    "- [1.2. Upload data set](#scrollTo=ZLFLLtY2-I06)"
   ]
  },
  {
   "cell_type": "markdown",
   "metadata": {
    "colab_type": "text",
    "id": "wKk_LeE0-dTr"
   },
   "source": [
    "- [1.3. Split data set](#scrollTo=Q2_fumrJ-NCl)"
   ]
  },
  {
   "cell_type": "markdown",
   "metadata": {
    "colab_type": "text",
    "id": "IlzY3FciGOWX"
   },
   "source": [
    "# [2. Summarize Data](#scrollTo=cIEjdLM1BGti)"
   ]
  },
  {
   "cell_type": "markdown",
   "metadata": {
    "colab_type": "text",
    "id": "M0UYZmYJGZFV"
   },
   "source": [
    "# [3. Formatting Features](#scrollTo=UqhoHvdpPKse)"
   ]
  },
  {
   "cell_type": "markdown",
   "metadata": {
    "colab_type": "text",
    "id": "pAg3v3qpGqVv"
   },
   "source": [
    "# [4. Handling Missing Values](#scrollTo=N1_xCHJo02PJ)"
   ]
  },
  {
   "cell_type": "markdown",
   "metadata": {
    "colab_type": "text",
    "id": "lhYpksVrG5E-"
   },
   "source": [
    "# [5. Target Variable Analysis](#scrollTo=1q8NeSmPwljg)"
   ]
  },
  {
   "cell_type": "markdown",
   "metadata": {
    "colab_type": "text",
    "id": "dvRRBPnDRD5b"
   },
   "source": [
    "# [6. Categorical Features Analysis](#scrollTo=uqcTsDB4OkMK)"
   ]
  },
  {
   "cell_type": "markdown",
   "metadata": {
    "colab_type": "text",
    "id": "CtNACJ5KUbP7"
   },
   "source": [
    "- [6.1. Analysis for categorical features (barplot, univariate analysis, bivariate analysis)](#scrollTo=KkBZluQqTqiO)"
   ]
  },
  {
   "cell_type": "markdown",
   "metadata": {
    "colab_type": "text",
    "id": "DIS68gp_U34z"
   },
   "source": [
    "- [6.2. Feature Selection](#scrollTo=ICEBY5Jv7tsV)"
   ]
  },
  {
   "cell_type": "markdown",
   "metadata": {
    "colab_type": "text",
    "id": "eBrr5dozbs_x"
   },
   "source": [
    "- [6.3. Feature Engineering on categorical features: one-hot encoding](#scrollTo=aHJVRnRmT7-j)\n"
   ]
  },
  {
   "cell_type": "markdown",
   "metadata": {
    "colab_type": "text",
    "id": "pm0fgCb8cS7M"
   },
   "source": [
    "# [7. Numerical Features Analysis](#scrollTo=jxwJmGWxcLux)"
   ]
  },
  {
   "cell_type": "markdown",
   "metadata": {
    "colab_type": "text",
    "id": "uIojxnLNfpIg"
   },
   "source": [
    "- [7.1. Analysis for numerical features (distribution, univariate analysis, bivariate analysis)](#scrollTo=UYsyCNwRzCtM)"
   ]
  },
  {
   "cell_type": "markdown",
   "metadata": {
    "colab_type": "text",
    "id": "NgH-tMu2f5_U"
   },
   "source": [
    "- [7.2. Feature Selection](#scrollTo=AdINGfY5hNlc)"
   ]
  },
  {
   "cell_type": "markdown",
   "metadata": {
    "colab_type": "text",
    "id": "B-1sV5a1gBwH"
   },
   "source": [
    "- [7.3. Handling Outliers](#scrollTo=HxOVN66PhX-4)"
   ]
  },
  {
   "cell_type": "markdown",
   "metadata": {
    "colab_type": "text",
    "id": "W-Mrk0zulihD"
   },
   "source": [
    "# [8. Feature Selection on all data set](#scrollTo=mPerrlyVl4l9)"
   ]
  },
  {
   "cell_type": "markdown",
   "metadata": {
    "colab_type": "text",
    "id": "YVFgPbfgoGE7"
   },
   "source": [
    "# [9. Modeling Part](#scrollTo=qe16GLXqopQl)"
   ]
  },
  {
   "cell_type": "markdown",
   "metadata": {
    "colab_type": "text",
    "id": "6lsmPk2LoOtP"
   },
   "source": [
    "- [9.1. Evaluation Metric and Confusion Matrix](#scrollTo=6S3Jt8sxLF2b)"
   ]
  },
  {
   "cell_type": "markdown",
   "metadata": {
    "colab_type": "text",
    "id": "4eKCEWSkodBr"
   },
   "source": [
    "# [10. Modeling Part I: without handling unbalanced data set](#scrollTo=YQHDO3oQLssf)"
   ]
  },
  {
   "cell_type": "markdown",
   "metadata": {
    "colab_type": "text",
    "id": "9YZVHYk3HocB"
   },
   "source": [
    "- [10.1. Pre-Processing: split data set](#scrollTo=6TRXf-0pLPsc)"
   ]
  },
  {
   "cell_type": "markdown",
   "metadata": {
    "colab_type": "text",
    "id": "buHUiL19H1ur"
   },
   "source": [
    "- [10.2. Baseline Models](#scrollTo=msCzLqkgLtyx)"
   ]
  },
  {
   "cell_type": "markdown",
   "metadata": {
    "colab_type": "text",
    "id": "Brx06yLGH1-P"
   },
   "source": [
    "- [10.3. Scaled Baseline Models](#scrollTo=qzK7N9OiL237)"
   ]
  },
  {
   "cell_type": "markdown",
   "metadata": {
    "colab_type": "text",
    "id": "ql3qldTJIWla"
   },
   "source": [
    "- [10.4. Features Importance](#scrollTo=DBpjyQI1L9pF)"
   ]
  },
  {
   "cell_type": "markdown",
   "metadata": {
    "colab_type": "text",
    "id": "r83jwAhAogc-"
   },
   "source": [
    "# [11. Modeling Part II: handling unbalanced data set](#scrollTo=-eOe6JuTKPBe)"
   ]
  },
  {
   "cell_type": "markdown",
   "metadata": {
    "colab_type": "text",
    "id": "Dx_izN8SI4jO"
   },
   "source": [
    "- [11.1. Over-sampling](#scrollTo=5dHoPIJAMvt1)"
   ]
  },
  {
   "cell_type": "markdown",
   "metadata": {
    "colab_type": "text",
    "id": "yn9jse68IxDC"
   },
   "source": [
    "- [11.2. Pre-Processing: split data set](#scrollTo=toYSVSUQNu6t)"
   ]
  },
  {
   "cell_type": "markdown",
   "metadata": {
    "colab_type": "text",
    "id": "wQbhpdttI2Y1"
   },
   "source": [
    "- [11.3. Baseline Models](#scrollTo=4MYenOMcNBcp)"
   ]
  },
  {
   "cell_type": "markdown",
   "metadata": {
    "colab_type": "text",
    "id": "J38c3c6hJKMz"
   },
   "source": [
    "- [11.4. Scaled Baseline Models](#scrollTo=IyUMpIf7NI-Q)"
   ]
  },
  {
   "cell_type": "markdown",
   "metadata": {
    "colab_type": "text",
    "id": "yp0X945iJXma"
   },
   "source": [
    "# [12. Conclusions](#scrollTo=hbZnOUhQKtTJ)"
   ]
  },
  {
   "cell_type": "markdown",
   "metadata": {
    "colab_type": "text",
    "id": "AopQkv7wJYVZ"
   },
   "source": [
    "# [13. References](#scrollTo=VhXdBXS0Kxj8)"
   ]
  },
  {
   "cell_type": "markdown",
   "metadata": {
    "colab_type": "text",
    "id": "cFfsLXl0K-iY"
   },
   "source": [
    "### **Exploratory Data Analysis (EDA) Pipeline**"
   ]
  },
  {
   "cell_type": "markdown",
   "metadata": {
    "colab_type": "text",
    "id": "ZVQahUb-8995"
   },
   "source": [
    "![](http://www.theleader.info/wp-content/uploads/2017/07/Mortgage-rates.jpg)"
   ]
  },
  {
   "cell_type": "code",
   "execution_count": null,
   "metadata": {},
   "outputs": [],
   "source": []
  }
 ],
 "metadata": {
  "accelerator": "GPU",
  "colab": {
   "collapsed_sections": [],
   "name": "An_Experimental_EDA_for_a_classification_task.ipynb",
   "provenance": []
  },
  "kernelspec": {
   "display_name": "Python 3",
   "language": "python",
   "name": "python3"
  },
  "language_info": {
   "codemirror_mode": {
    "name": "ipython",
    "version": 3
   },
   "file_extension": ".py",
   "mimetype": "text/x-python",
   "name": "python",
   "nbconvert_exporter": "python",
   "pygments_lexer": "ipython3",
   "version": "3.7.4"
  }
 },
 "nbformat": 4,
 "nbformat_minor": 1
}
